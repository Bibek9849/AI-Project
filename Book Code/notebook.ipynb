{
 "cells": [
  {
   "cell_type": "code",
   "execution_count": 9,
   "metadata": {},
   "outputs": [
    {
     "name": "stdout",
     "output_type": "stream",
     "text": [
      "Initial Position: (0, 0, 0)\n",
      "Final Position: (6.407268263383375, 309.9593745532724, 1.5501279540739108)\n"
     ]
    }
   ],
   "source": [
    "\"\"\" \n",
    "Python code for calculating the final position w.r.t 2D axis for two wheels \n",
    " \"\"\"\n",
    "from math import pi, sin, cos \n",
    "# Constants and initial data\n",
    "robot_base_length = 80  # in cm\n",
    "wheel_diameter= 10\n",
    "encoder_counts_per_lap= 76 \n",
    "left_encoder_counts = 600\n",
    "right_encoder_counts = 900\n",
    "initial_position = (0, 0, 0)  # (x, y, rotation angle in radians)\n",
    "moving_time = 5  # seconds\n",
    "\n",
    "def calculate_wheel_distance(l_r_wheel_counts):\n",
    "    \"\"\" Calculate the distance traveled by a wheel based on encoder counts. \"\"\"\n",
    "    wheel_radius = wheel_diameter / 2\n",
    "    distance = (2 * pi * wheel_radius / encoder_counts_per_lap) * l_r_wheel_counts\n",
    "    return distance\n",
    "\n",
    "def calculate_linear_displacement(left_distance, right_distance):\n",
    "    \"\"\" Calculate the linear displacement of the center point of the wheels' axis. \"\"\"\n",
    "    displacement = (left_distance + right_distance) / 2\n",
    "    return displacement\n",
    "\n",
    "def calculate_rotation_angle(left_distance, right_distance):\n",
    "    \"\"\" Calculate the rotation angle of the robot. \"\"\"\n",
    "    rotation_angle = (right_distance - left_distance) / robot_base_length\n",
    "    return rotation_angle\n",
    "\n",
    "def calculate_final_position(initial_position, linear_displacement, rotation_angle):\n",
    "    \"\"\" Calculate the final position of the robot. \"\"\"\n",
    "    x = initial_position[0] + linear_displacement * cos(initial_position[2] + rotation_angle)\n",
    "    y = initial_position[1] + linear_displacement * sin(initial_position[2] + rotation_angle)\n",
    "    theta = initial_position[2] + rotation_angle\n",
    "    return (x, y, theta)\n",
    "\n",
    "# Calculate distances traveled by each wheel\n",
    "left_wheel_distance = calculate_wheel_distance(left_encoder_counts)\n",
    "right_wheel_distance = calculate_wheel_distance(right_encoder_counts)\n",
    "\n",
    "# Calculate linear displacement of the center point of the wheels' axis\n",
    "linear_displacement = calculate_linear_displacement(left_wheel_distance, right_wheel_distance)\n",
    "\n",
    "# Calculate rotation angle of the robot\n",
    "rotation_angle = calculate_rotation_angle(left_wheel_distance, right_wheel_distance)\n",
    "\n",
    "# Calculate final position\n",
    "final_position = calculate_final_position(initial_position, linear_displacement, rotation_angle)\n",
    "\n",
    "# Print results\n",
    "print(f\"Initial Position: {initial_position}\")\n",
    "print(f\"Final Position: {final_position}\")"
   ]
  },
  {
   "cell_type": "code",
   "execution_count": 10,
   "metadata": {},
   "outputs": [
    {
     "data": {
      "text/plain": [
       "' \\nComputer Vision: \\n\\nbasic algorithms are: \\n\\nThresholding :  used to simplify how an image is visualized by both the computer\\n                and the user in order to make analysis easier.\\n\\n                based on a value that the user sets and every\\n                pixel is converted to white or black depending on whether the value of every pixel is higher or\\n                lower than the set value\\n\\n                Types:\\n                    Simple Thresholding:\\n                        Threshold binary\\n                        Threshold binary inv\\n                        Truncate\\n                        Threshold to Zero\\n                        Threshold to zero inv\\n\\n                    Adaptive Thresholding:\\n                        Adaptive mean thresholding : threshold = mean of neighbouring areas\\n                        \\n                        Adaptive gaussian thresholding : threshold = weighted sum of neighbouring areas  \\n                        where weights are a Gaussian window.\\n\\nMorphological transformations \\nBlurring \\n\\n'"
      ]
     },
     "execution_count": 10,
     "metadata": {},
     "output_type": "execute_result"
    }
   ],
   "source": [
    "\"\"\" \n",
    "Computer Vision: \n",
    "\n",
    "basic algorithms are: \n",
    "\n",
    "Thresholding :  used to simplify how an image is visualized by both the computer\n",
    "                and the user in order to make analysis easier.\n",
    "\n",
    "                based on a value that the user sets and every\n",
    "                pixel is converted to white or black depending on whether the value of every pixel is higher or\n",
    "                lower than the set value\n",
    "\n",
    "                Types:\n",
    "                    Simple Thresholding:\n",
    "                        Threshold binary\n",
    "                        Threshold binary inv\n",
    "                        Truncate\n",
    "                        Threshold to Zero\n",
    "                        Threshold to zero inv\n",
    "\n",
    "                    Adaptive Thresholding:\n",
    "                        Adaptive mean thresholding : threshold = mean of neighbouring areas\n",
    "                        \n",
    "                        Adaptive gaussian thresholding : threshold = weighted sum of neighbouring areas  \n",
    "                        where weights are a Gaussian window.\n",
    "\n",
    "Morphological transformations \n",
    "Blurring \n",
    "\n",
    "\"\"\"\n",
    "\n",
    "\n"
   ]
  }
 ],
 "metadata": {
  "kernelspec": {
   "display_name": "enterprise_libraries",
   "language": "python",
   "name": "python3"
  },
  "language_info": {
   "codemirror_mode": {
    "name": "ipython",
    "version": 3
   },
   "file_extension": ".py",
   "mimetype": "text/x-python",
   "name": "python",
   "nbconvert_exporter": "python",
   "pygments_lexer": "ipython3",
   "version": "3.11.2"
  }
 },
 "nbformat": 4,
 "nbformat_minor": 2
}
